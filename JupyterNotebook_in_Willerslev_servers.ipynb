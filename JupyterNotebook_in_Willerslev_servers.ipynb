{
 "cells": [
  {
   "cell_type": "markdown",
   "metadata": {},
   "source": [
    "# Jupyter Notebook in Willerslev servers\n",
    "\n",
    "###### Moisès Coll Macià\n",
    "###### 18/01/21\n",
    "\n",
    "\n",
    "In this tutorial I'm going to explain the solution I found to run jupyter notebook in the Willerslev servers remotely from by personal computer. I'm mainly based on [this](https://medium.com/@sankarshan7/how-to-run-jupyter-notebook-in-server-which-is-at-multi-hop-distance-a02bc8e78314) blog post which explains a similar problem. The different steps are shown in **Figure 1** and explained below. The idea is to create an *ssh tunnel* from a computing node (where your `jupyther notebook` is running) to the front-end of Willerslev servers (Step 1 and 2) and another tunnel from the front-end in Willerslev servers to your working station (Step 3) to open jupyter notebook in your computer browser (Step 4). I assume you've already installed jupyter notebook and all it's dependences and you know how to login to the Willerslev servers. \n",
    "\n",
    "![](Figure1.png)\n",
    "\n",
    "**Figure 1.** Schematic representation to run Jupyter Notebook in Willerslev servers. Highlighted are:\n",
    "- Yellow : KU username\n",
    "- Red : computing node name\n",
    "- Green : port 1\n",
    "- Purple : port 2\n",
    "- Cyan : port 3"
   ]
  },
  {
   "cell_type": "markdown",
   "metadata": {},
   "source": [
    "### Step 1. Running jupyter notebook in a computer node\n",
    "\n",
    "    - Log into the Willerslev servers (on Figure 1.1, you should replace the Xs highlighted in yellow for your user).\n",
    "    - Check which computing node you want to run jupyter notebook on.\n",
    "    - Log into the computing node (on Figure 1.1, represented as Ss highlighted in red)\n",
    "    - Run jupyter notebook in `--no-browser` mode. You also must decide a port, which is a 4 digits number (on Figure 1.1, represented as 9s highlighted in green) which must be unique to your connection, otherwise it gives problems. \n"
   ]
  },
  {
   "cell_type": "raw",
   "metadata": {},
   "source": [
    "ssh XXXXXX@ssh-snm-willerslev.science.ku.dk\n",
    "tmon\n",
    "ssh SSSSSS\n",
    "jupyter lab --no-browser --port=9999"
   ]
  },
  {
   "cell_type": "markdown",
   "metadata": {},
   "source": [
    "### Step 2. Open the first ssh tunnel\n",
    "\n",
    "    - On a new terminal, log into the Willerslev servers (on Figure 1.2, you should replace the Xs highlighted in yellow for your user).\n",
    "    - Create an shh tunnel with the command shown in Figure 1.2. Ss highlighted in red represent the computing node on which you are running the jupyter notebook. Again, you must decide a new port (on Figure 1.2, represented as 8s highlighted in purple) and use the type the port you used before in the jupyter notebook command (on Figure 1.2, represented as 9s highlighted in green)"
   ]
  },
  {
   "cell_type": "raw",
   "metadata": {},
   "source": [
    "ssh XXXXXX@ssh-snm-willerslev.science.ku.dk\n",
    "ssh SSSSSS -L 8888:localhost:9999 -N"
   ]
  },
  {
   "cell_type": "markdown",
   "metadata": {},
   "source": [
    "### Step 3. Open the second ssh tunnel\n",
    "\n",
    "    - On a new terminal, create another shh tunnel with the command shown in Figure 1.3. Xs highlighted in yellow represent your user to connect to Willerslev servers. Again, you must decide a new port (on Figure 1.3, represented as 7s highlighted in cyan) and use the type the port you used before in the first tunnel (on Figure 1.3, represented as 8s highlighted in purple)"
   ]
  },
  {
   "cell_type": "raw",
   "metadata": {},
   "source": [
    "ssh XXXXXX@ssh-snm-willerslev.science.ku.dk -L 7777:localhost:8888 -N"
   ]
  },
  {
   "cell_type": "markdown",
   "metadata": {},
   "source": [
    "### Step 4. Jupyter notebook in your local machine browser\n",
    "\n",
    "    - Open your favourite browser and type `localhost:777`\n",
    "    - TADAAAA!\n",
    "    \n",
    "### Caveats and considerations\n",
    "\n",
    "1. Difficult to automatize\n",
    "\n",
    "I found a bit annoying to repeat all steps every time I want to work on jupyter notebook. I added some of the commands in my `.bash_profile` as aliases, but I'm not sure is the best way to automatize the whole thing.\n",
    "\n",
    "2. Port uniqueness\n",
    "\n",
    "While port 1, 2 and 3 can be the same 4-digit number, if there are multiple users using the same ports in the same \"computer\" it's going to create some conflicts and errors. \n",
    "\n",
    "3. Close shh tunnels\n",
    "\n",
    "Sometimes, when I close the shh tunnels (Cntl+c or Cntrl+z), the process keeps running on the background, meaning that the port is still in use. Then, if I try to open again the tunnels, I get the error that the port is on use. To solve that, I kill the process that it's running that particular port with the following command"
   ]
  },
  {
   "cell_type": "raw",
   "metadata": {},
   "source": [
    "for job in `ps aux | egrep 9999 | egrep \"ssh\" | egrep XXXXXX | awk '{print $2}'`; do kill -9 ${job}; done"
   ]
  },
  {
   "cell_type": "markdown",
   "metadata": {},
   "source": [
    "This selects from all processes running, the ones that have the \"9999\" (port-id), \"ssh\" and \"XXXXXX\" (username) and kill them. \n",
    "\n",
    "4. ssh termination\n",
    "\n",
    "Sometimes, when the ssh doesn't receive orders, it automatically closes down. This kills the ssh tunnel. To prevent that, I first run `screen` so that even when my session is killed, the process goes on and it does not stop my jupyter notebook while working. \n",
    "\n",
    "Let me know if you find more problems while using these to run jupyter notebook that are not reported here and if you have improvements and suggestions!"
   ]
  }
 ],
 "metadata": {
  "kernelspec": {
   "display_name": "Python 3",
   "language": "python",
   "name": "python3"
  },
  "language_info": {
   "codemirror_mode": {
    "name": "ipython",
    "version": 3
   },
   "file_extension": ".py",
   "mimetype": "text/x-python",
   "name": "python",
   "nbconvert_exporter": "python",
   "pygments_lexer": "ipython3",
   "version": "3.6.12"
  }
 },
 "nbformat": 4,
 "nbformat_minor": 4
}
